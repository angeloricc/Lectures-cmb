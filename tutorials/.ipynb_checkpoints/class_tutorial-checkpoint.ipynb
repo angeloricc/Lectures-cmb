{
 "cells": [
  {
   "cell_type": "markdown",
   "id": "b3e9c24c",
   "metadata": {},
   "source": [
    "# Tutorial 01 - Managing CLASS \n",
    "\n",
    "**Angelo Ricciardone (Universita degli Studi di Pisa)**\n",
    "\n",
    "## Observational Astrophysics course AA 2023/24\n",
    "\n",
    "## In this tutorial we will learn how to use CLASS to simulate the evolution of linear perturbations in the universe and to compute CMB and large scale structure observables\n",
    "\n",
    "\n",
    "```Install Class```\n",
    "\n",
    "For MAC users could be non trivial due to conflict with the compiler\n"
   ]
  },
  {
   "cell_type": "markdown",
   "id": "992b4348",
   "metadata": {},
   "source": [
    "# Setup"
   ]
  },
  {
   "cell_type": "code",
   "execution_count": 1,
   "id": "72267b41",
   "metadata": {},
   "outputs": [],
   "source": [
    "import numpy as np\n",
    "import matplotlib.pyplot as plt\n",
    "from classy import Class"
   ]
  },
  {
   "cell_type": "code",
   "execution_count": 2,
   "id": "d61fbd3b",
   "metadata": {},
   "outputs": [],
   "source": [
    "%matplotlib inline\n",
    "\n",
    "plt.rcParams.update({\n",
    "    \"text.usetex\": True,\n",
    "    \"font.family\": \"Helvetica\"\n",
    "})"
   ]
  },
  {
   "cell_type": "markdown",
   "id": "aaaa6b19",
   "metadata": {},
   "source": [
    "# Run class"
   ]
  },
  {
   "cell_type": "markdown",
   "id": "99a0a4df",
   "metadata": {},
   "source": [
    "Set parameters"
   ]
  },
  {
   "cell_type": "code",
   "execution_count": 3,
   "id": "4bb4b799",
   "metadata": {},
   "outputs": [
    {
     "data": {
      "text/plain": [
       "True"
      ]
     },
     "execution_count": 3,
     "metadata": {},
     "output_type": "execute_result"
    }
   ],
   "source": [
    "cosmo_pars = {\n",
    "    'A_s' : 2.22e-9,\n",
    "    'n_s' : 0.97,\n",
    "    'h' : 0.6777,\n",
    "    'omega_cdm': 0.12,\n",
    "    'omega_b': 0.022,\n",
    "}\n",
    "\n",
    "run_pars = {\n",
    "    'output' : 'tCl, mPk',\n",
    "}\n",
    "\n",
    "\n",
    "C = Class()\n",
    "C.set(cosmo_pars)\n",
    "C.set(run_pars)"
   ]
  },
  {
   "cell_type": "markdown",
   "id": "90f8a87a",
   "metadata": {},
   "source": [
    "Run CLASS"
   ]
  },
  {
   "cell_type": "code",
   "execution_count": 4,
   "id": "66cb4225",
   "metadata": {},
   "outputs": [],
   "source": [
    "C.compute()"
   ]
  },
  {
   "cell_type": "markdown",
   "id": "304e94fe",
   "metadata": {},
   "source": [
    "Get output"
   ]
  },
  {
   "cell_type": "code",
   "execution_count": 5,
   "id": "1c6feee3",
   "metadata": {},
   "outputs": [],
   "source": [
    "cls = C.raw_cl()\n",
    "\n",
    "Pk = {'k_in_h/Mpc' : np.logspace(-4, -.5, 1000)}\n",
    "Pk['matter'] = [C.pk(k*cosmo_pars['h'], 0.)* cosmo_pars['h']**3 for k in Pk['k_in_h/Mpc']]"
   ]
  },
  {
   "cell_type": "markdown",
   "id": "52cc16a2",
   "metadata": {},
   "source": [
    "Can get a lot of other stuff"
   ]
  },
  {
   "cell_type": "code",
   "execution_count": 6,
   "id": "88d987dc",
   "metadata": {},
   "outputs": [
    {
     "data": {
      "text/plain": [
       "['Hubble',\n",
       " 'Neff',\n",
       " 'Om_b',\n",
       " 'Om_cdm',\n",
       " 'Om_m',\n",
       " 'Om_ncdm',\n",
       " 'Omega0_cdm',\n",
       " 'Omega0_k',\n",
       " 'Omega0_m',\n",
       " 'Omega_Lambda',\n",
       " 'Omega_b',\n",
       " 'Omega_g',\n",
       " 'Omega_m',\n",
       " 'Omega_nu',\n",
       " 'Omega_r',\n",
       " 'S8',\n",
       " 'T_cmb',\n",
       " '__call__',\n",
       " '__class__',\n",
       " '__delattr__',\n",
       " '__dir__',\n",
       " '__doc__',\n",
       " '__eq__',\n",
       " '__format__',\n",
       " '__ge__',\n",
       " '__getattribute__',\n",
       " '__gt__',\n",
       " '__hash__',\n",
       " '__init__',\n",
       " '__init_subclass__',\n",
       " '__le__',\n",
       " '__lt__',\n",
       " '__ne__',\n",
       " '__new__',\n",
       " '__reduce__',\n",
       " '__reduce_ex__',\n",
       " '__repr__',\n",
       " '__setattr__',\n",
       " '__setstate__',\n",
       " '__sizeof__',\n",
       " '__str__',\n",
       " '__subclasshook__',\n",
       " '_check_task_dependency',\n",
       " '_fillparfile',\n",
       " '_pars_check',\n",
       " 'age',\n",
       " 'angular_distance',\n",
       " 'angular_distance_from_to',\n",
       " 'baryon_temperature',\n",
       " 'comoving_distance',\n",
       " 'compute',\n",
       " 'density_cl',\n",
       " 'effective_f_sigma8',\n",
       " 'effective_f_sigma8_spline',\n",
       " 'empty',\n",
       " 'fourier_hmcode_sigma8',\n",
       " 'fourier_hmcode_sigma8_cb',\n",
       " 'fourier_hmcode_sigmadisp',\n",
       " 'fourier_hmcode_sigmadisp100',\n",
       " 'fourier_hmcode_sigmadisp100_cb',\n",
       " 'fourier_hmcode_sigmadisp_cb',\n",
       " 'fourier_hmcode_sigmaprime',\n",
       " 'fourier_hmcode_sigmaprime_cb',\n",
       " 'fourier_hmcode_window_nfw',\n",
       " 'get_Weyl_pk_and_k_and_z',\n",
       " 'get_background',\n",
       " 'get_current_derived_parameters',\n",
       " 'get_perturbations',\n",
       " 'get_pk',\n",
       " 'get_pk_all',\n",
       " 'get_pk_and_k_and_z',\n",
       " 'get_pk_array',\n",
       " 'get_pk_cb',\n",
       " 'get_pk_cb_array',\n",
       " 'get_pk_cb_lin',\n",
       " 'get_pk_lin',\n",
       " 'get_primordial',\n",
       " 'get_sources',\n",
       " 'get_thermodynamics',\n",
       " 'get_transfer',\n",
       " 'get_transfer_and_k_and_z',\n",
       " 'h',\n",
       " 'ionization_fraction',\n",
       " 'k_eq',\n",
       " 'lensed_cl',\n",
       " 'luminosity_distance',\n",
       " 'n_s',\n",
       " 'nonlinear_method',\n",
       " 'nonlinear_scale',\n",
       " 'nonlinear_scale_cb',\n",
       " 'omega_b',\n",
       " 'pars',\n",
       " 'pk',\n",
       " 'pk_cb',\n",
       " 'pk_cb_lin',\n",
       " 'pk_lin',\n",
       " 'pk_tilt',\n",
       " 'raw_cl',\n",
       " 'rs_drag',\n",
       " 'scale_dependent_growth_factor_f',\n",
       " 'scale_independent_f_sigma8',\n",
       " 'scale_independent_growth_factor',\n",
       " 'scale_independent_growth_factor_f',\n",
       " 'set',\n",
       " 'set_default',\n",
       " 'sigma',\n",
       " 'sigma8',\n",
       " 'sigma8_cb',\n",
       " 'sigma_cb',\n",
       " 'spectral_distortion',\n",
       " 'spectral_distortion_amplitudes',\n",
       " 'state',\n",
       " 'struct_cleanup',\n",
       " 'tau_reio',\n",
       " 'theta_s_100',\n",
       " 'theta_star_100',\n",
       " 'z_eq',\n",
       " 'z_of_r',\n",
       " 'z_of_tau',\n",
       " 'z_reio']"
      ]
     },
     "execution_count": 6,
     "metadata": {},
     "output_type": "execute_result"
    }
   ],
   "source": [
    "dir(C)"
   ]
  },
  {
   "cell_type": "markdown",
   "id": "cf09a336",
   "metadata": {},
   "source": [
    "# Plot"
   ]
  },
  {
   "cell_type": "code",
   "execution_count": 7,
   "id": "6d111384",
   "metadata": {},
   "outputs": [
    {
     "data": {
      "image/png": "[encoded data removed]",
      "text/plain": [
       "<Figure size 432x288 with 1 Axes>"
      ]
     },
     "metadata": {
      "needs_background": "light"
     },
     "output_type": "display_data"
    }
   ],
   "source": [
    "plt.plot(cls['ell'], cls['tt']*cls['ell']*(cls['ell']+1)/(2.*np.pi))\n",
    "\n",
    "#plt.semilogx()\n",
    "plt.xlim(2,2500)\n",
    "plt.xlabel(r\"$\\ell$\")\n",
    "plt.ylabel(r\"$\\mathcal{D}_\\ell^{\\Theta\\Theta}$\")\n",
    "\n",
    "plt.show()"
   ]
  },
  {
   "cell_type": "code",
   "execution_count": 8,
   "id": "7602a06a",
   "metadata": {},
   "outputs": [
    {
     "data": {
      "image/png": "[encoded data removed]",
      "text/plain": [
       "<Figure size 432x288 with 1 Axes>"
      ]
     },
     "metadata": {
      "needs_background": "light"
     },
     "output_type": "display_data"
    }
   ],
   "source": [
    "plt.plot(Pk['k_in_h/Mpc'], Pk['matter'])\n",
    "\n",
    "plt.loglog()\n",
    "\n",
    "plt.xlim(1.e-3, 3.e-1)\n",
    "plt.xlabel(r\"$k \\ [h/\\mathrm{Mpc}]$\")\n",
    "plt.ylabel(r\"$P_m(k)  \\ [\\mathrm{Mpc}^3 / h^3]$\")\n",
    "\n",
    "plt.show()"
   ]
  },
  {
   "cell_type": "code",
   "execution_count": null,
   "id": "82580a45",
   "metadata": {},
   "outputs": [],
   "source": []
  }
 ],
 "metadata": {
  "interpreter": {
   "hash": "aee8b7b246df8f9039afb4144a1f6fd8d2ca17a180786b69acc140d282b71a49"
  },
  "kernelspec": {
   "display_name": "Python 3 (ipykernel)",
   "language": "python",
   "name": "python3"
  },
  "language_info": {
   "codemirror_mode": {
    "name": "ipython",
    "version": 3
   },
   "file_extension": ".py",
   "mimetype": "text/x-python",
   "name": "python",
   "nbconvert_exporter": "python",
   "pygments_lexer": "ipython3",
   "version": "3.9.9"
  }
 },
 "nbformat": 4,
 "nbformat_minor": 5
}
