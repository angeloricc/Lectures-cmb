{
 "cells": [
  {
   "cell_type": "markdown",
   "id": "28e65a58",
   "metadata": {},
   "source": [
    "# Exercise 04 - Extract CMB spectrum\n",
    "\n",
    "**Angelo Ricciardone (Universita degli Studi di Pisa)**\n",
    "\n",
    "## Observational Astrophysics course AA 2023/24\n",
    "\n",
    "\n",
    "##  In this exercise you will have to plot a PLANCK map, extract the angular power spectrum and compare with the theoretical expectation\n",
    "\n",
    "### You can download the data from  `ESA website` [https://pla.esac.esa.int/#home]. Pay attention because they are quite heavy. You can use the SMICA map that is in the data folder on the Git.\n",
    "\n",
    "\n",
    "## Goals\n",
    "\n",
    "- ```Import and Manipulate Planck FITS map``` \n",
    "- ```Plot the sky distribution```\n",
    "- ```Computing the angular power spectrum usin CLASS```\n",
    "- ```Plot the angular power spectrum for different cosmological parameters```\n",
    "\n",
    "### Required codes\n",
    " \n",
    "* CLASS [http://class-code.net/] \n",
    "\n",
    "### Required Python modules\n",
    "\n",
    "* classy\n",
    "* python 3\n",
    "* numpy\n",
    "* matplotlib\n",
    "* healpy\n",
    "* pylab\n",
    "\n"
   ]
  },
  {
   "cell_type": "markdown",
   "id": "0ce30d37",
   "metadata": {},
   "source": [
    "### Please spend 15' to read Healpix features and Healpy wrapper\n",
    "\n",
    "### https://healpix.sourceforge.io/index.php"
   ]
  },
  {
   "cell_type": "markdown",
   "id": "3c896b9c",
   "metadata": {},
   "source": [
    "## Importing Python Modules"
   ]
  },
  {
   "cell_type": "code",
   "execution_count": null,
   "id": "d94b10a3",
   "metadata": {},
   "outputs": [],
   "source": [
    "# In the next cell you should import the necessary modules\n",
    "from classy import Class\n"
   ]
  },
  {
   "cell_type": "code",
   "execution_count": null,
   "id": "f918a727",
   "metadata": {},
   "outputs": [],
   "source": []
  },
  {
   "cell_type": "code",
   "execution_count": null,
   "id": "1ef02154",
   "metadata": {},
   "outputs": [],
   "source": []
  },
  {
   "cell_type": "markdown",
   "id": "a2454658",
   "metadata": {},
   "source": [
    "## Load the FIRAS (Far-Infrared Absolute Spectrophotometer) COBE data from the data folder"
   ]
  },
  {
   "cell_type": "code",
   "execution_count": null,
   "id": "4ef99d38",
   "metadata": {},
   "outputs": [],
   "source": []
  },
  {
   "cell_type": "markdown",
   "id": "31e0b66f",
   "metadata": {},
   "source": [
    "### Using the fitting class that you have developed in the previous assignament to  fit the provided CMB data to extract the temperature and its associated error"
   ]
  },
  {
   "cell_type": "code",
   "execution_count": null,
   "id": "586f4950",
   "metadata": {},
   "outputs": [],
   "source": []
  },
  {
   "cell_type": "markdown",
   "id": "67727243",
   "metadata": {},
   "source": [
    "## Read the SMICA map"
   ]
  },
  {
   "cell_type": "code",
   "execution_count": null,
   "id": "ac7929a1",
   "metadata": {},
   "outputs": [],
   "source": []
  },
  {
   "cell_type": "markdown",
   "id": "c7d23ba8",
   "metadata": {},
   "source": [
    "### Read the HDU\n"
   ]
  },
  {
   "cell_type": "code",
   "execution_count": null,
   "id": "2f8c745d",
   "metadata": {},
   "outputs": [],
   "source": []
  },
  {
   "cell_type": "markdown",
   "id": "16ea08f4",
   "metadata": {},
   "source": [
    "## Look in the FITS to check columns and raws"
   ]
  },
  {
   "cell_type": "code",
   "execution_count": null,
   "id": "9c0730dd",
   "metadata": {},
   "outputs": [],
   "source": []
  },
  {
   "cell_type": "markdown",
   "id": "73402e42",
   "metadata": {},
   "source": [
    "## Plot the sky distribution in molleweide"
   ]
  },
  {
   "cell_type": "code",
   "execution_count": null,
   "id": "06055150",
   "metadata": {},
   "outputs": [],
   "source": []
  },
  {
   "cell_type": "markdown",
   "id": "33d0e4d6",
   "metadata": {},
   "source": [
    "## Compute the angular power spectrum from the SMICA map"
   ]
  },
  {
   "cell_type": "code",
   "execution_count": 4,
   "id": "385f1fbe",
   "metadata": {},
   "outputs": [],
   "source": []
  },
  {
   "cell_type": "markdown",
   "id": "de87514c",
   "metadata": {},
   "source": [
    "## Set CLASS cosmological parameters"
   ]
  },
  {
   "cell_type": "code",
   "execution_count": null,
   "id": "ff786a77",
   "metadata": {},
   "outputs": [],
   "source": []
  },
  {
   "cell_type": "markdown",
   "id": "c748eb1c",
   "metadata": {},
   "source": [
    "## Compute $$C_{\\ell}^{TT}$$, $$C_{\\ell}^{EE}$$, $$C_{\\ell}^{BB}$$"
   ]
  },
  {
   "cell_type": "code",
   "execution_count": 54,
   "id": "cc3cd878",
   "metadata": {},
   "outputs": [],
   "source": []
  },
  {
   "cell_type": "markdown",
   "id": "11cfd4f2",
   "metadata": {},
   "source": [
    " ### Plot C_l lensed / unlensed"
   ]
  },
  {
   "cell_type": "code",
   "execution_count": null,
   "id": "bd093b41",
   "metadata": {},
   "outputs": [],
   "source": []
  },
  {
   "cell_type": "markdown",
   "id": "a6b859dd",
   "metadata": {},
   "source": [
    "### Compute the cosmic variance"
   ]
  },
  {
   "cell_type": "code",
   "execution_count": 49,
   "id": "2449c2c7",
   "metadata": {},
   "outputs": [],
   "source": []
  },
  {
   "cell_type": "markdown",
   "id": "89d06a07",
   "metadata": {},
   "source": [
    "## Compare the theoretical and SMICA CMB angular power spectrum"
   ]
  },
  {
   "cell_type": "code",
   "execution_count": null,
   "id": "14f39bf8",
   "metadata": {},
   "outputs": [],
   "source": []
  },
  {
   "cell_type": "markdown",
   "id": "909ea5c7",
   "metadata": {},
   "source": [
    "# Plot the estimated angular power spectrum from the SMICA map with the error bars for some  multipoles (select few multipoles to plot the error bars)\n",
    "\n"
   ]
  },
  {
   "cell_type": "code",
   "execution_count": null,
   "id": "6d2ca642",
   "metadata": {},
   "outputs": [],
   "source": []
  },
  {
   "cell_type": "markdown",
   "id": "6834707f",
   "metadata": {},
   "source": []
  },
  {
   "cell_type": "code",
   "execution_count": null,
   "id": "45dc43eb",
   "metadata": {},
   "outputs": [],
   "source": [
    "# optional: clear content of LambdaCDM (to reuse it for another model)"
   ]
  },
  {
   "cell_type": "code",
   "execution_count": null,
   "id": "82f0992a",
   "metadata": {},
   "outputs": [],
   "source": []
  },
  {
   "cell_type": "code",
   "execution_count": null,
   "id": "8fc0ed56",
   "metadata": {},
   "outputs": [],
   "source": [
    "# optional: reset parameters to default"
   ]
  },
  {
   "cell_type": "code",
   "execution_count": null,
   "id": "d2382f7a",
   "metadata": {},
   "outputs": [],
   "source": []
  }
 ],
 "metadata": {
  "kernelspec": {
   "display_name": "Python 3 (ipykernel)",
   "language": "python",
   "name": "python3"
  },
  "language_info": {
   "codemirror_mode": {
    "name": "ipython",
    "version": 3
   },
   "file_extension": ".py",
   "mimetype": "text/x-python",
   "name": "python",
   "nbconvert_exporter": "python",
   "pygments_lexer": "ipython3",
   "version": "3.9.9"
  }
 },
 "nbformat": 4,
 "nbformat_minor": 5
}
